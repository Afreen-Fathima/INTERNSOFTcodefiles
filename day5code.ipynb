{
 "cells": [
  {
   "cell_type": "markdown",
   "metadata": {},
   "source": [
    "# METHODS & PACKAGES"
   ]
  },
  {
   "cell_type": "code",
   "execution_count": 1,
   "metadata": {},
   "outputs": [
    {
     "data": {
      "text/plain": [
       "3"
      ]
     },
     "execution_count": 1,
     "metadata": {},
     "output_type": "execute_result"
    }
   ],
   "source": [
    "import math\n",
    "math.ceil(2.4)"
   ]
  },
  {
   "cell_type": "code",
   "execution_count": 2,
   "metadata": {},
   "outputs": [
    {
     "name": "stdout",
     "output_type": "stream",
     "text": [
      "['__doc__', '__loader__', '__name__', '__package__', '__spec__', 'acos', 'acosh', 'asin', 'asinh', 'atan', 'atan2', 'atanh', 'ceil', 'comb', 'copysign', 'cos', 'cosh', 'degrees', 'dist', 'e', 'erf', 'erfc', 'exp', 'expm1', 'fabs', 'factorial', 'floor', 'fmod', 'frexp', 'fsum', 'gamma', 'gcd', 'hypot', 'inf', 'isclose', 'isfinite', 'isinf', 'isnan', 'isqrt', 'ldexp', 'lgamma', 'log', 'log10', 'log1p', 'log2', 'modf', 'nan', 'perm', 'pi', 'pow', 'prod', 'radians', 'remainder', 'sin', 'sinh', 'sqrt', 'tan', 'tanh', 'tau', 'trunc']\n"
     ]
    }
   ],
   "source": [
    "print(dir(math))"
   ]
  },
  {
   "cell_type": "code",
   "execution_count": 3,
   "metadata": {},
   "outputs": [
    {
     "name": "stdout",
     "output_type": "stream",
     "text": [
      "Help on built-in function ceil in module math:\n",
      "\n",
      "ceil(x, /)\n",
      "    Return the ceiling of x as an Integral.\n",
      "    \n",
      "    This is the smallest integer >= x.\n",
      "\n"
     ]
    }
   ],
   "source": [
    "help(math.ceil)"
   ]
  },
  {
   "cell_type": "code",
   "execution_count": 4,
   "metadata": {},
   "outputs": [
    {
     "ename": "SyntaxError",
     "evalue": "EOL while scanning string literal (<ipython-input-4-37068e5cc2b1>, line 2)",
     "output_type": "error",
     "traceback": [
      "\u001b[1;36m  File \u001b[1;32m\"<ipython-input-4-37068e5cc2b1>\"\u001b[1;36m, line \u001b[1;32m2\u001b[0m\n\u001b[1;33m    print('hello)\u001b[0m\n\u001b[1;37m                 ^\u001b[0m\n\u001b[1;31mSyntaxError\u001b[0m\u001b[1;31m:\u001b[0m EOL while scanning string literal\n"
     ]
    }
   ],
   "source": [
    "#error & exception handling\n",
    "print('hello)"
   ]
  },
  {
   "cell_type": "code",
   "execution_count": 5,
   "metadata": {},
   "outputs": [
    {
     "name": "stdout",
     "output_type": "stream",
     "text": [
      "Content written successfully\n"
     ]
    }
   ],
   "source": [
    "#try and except\n",
    "try:\n",
    "    f = open('testfile','w')\n",
    "    f.write('Test write this')\n",
    "except IOError:\n",
    "   print(\"Error: Could not find file or read data\")\n",
    "else:\n",
    "   print(\"Content written successfully\")\n",
    "   f.close()"
   ]
  },
  {
   "cell_type": "code",
   "execution_count": 6,
   "metadata": {},
   "outputs": [
    {
     "name": "stdout",
     "output_type": "stream",
     "text": [
      "Error: Could not find file or read data\n"
     ]
    }
   ],
   "source": [
    "try:\n",
    "    f = open('testfile','r')\n",
    "    f.write('Test write this')\n",
    "except IOError:\n",
    "   print(\"Error: Could not find file or read data\")\n",
    "else:\n",
    "   print(\"Content written successfully\")\n",
    "   f.close()"
   ]
  },
  {
   "cell_type": "code",
   "execution_count": 9,
   "metadata": {},
   "outputs": [
    {
     "name": "stdout",
     "output_type": "stream",
     "text": [
      "Content written successfully\n"
     ]
    }
   ],
   "source": [
    "try:\n",
    "    f = open('testfile','w')\n",
    "    f.write('Test write this')\n",
    "except:\n",
    " print(\"Error: Could not find file or read data\")\n",
    "else:\n",
    "   print(\"Content written successfully\")\n",
    "   f.close()"
   ]
  },
  {
   "cell_type": "code",
   "execution_count": 19,
   "metadata": {},
   "outputs": [
    {
     "name": "stdout",
     "output_type": "stream",
     "text": [
      "Always execute finally code blocks\n"
     ]
    }
   ],
   "source": [
    "try:\n",
    "   f = open(\"testfile\", \"w\")\n",
    "   f.write(\"Test write statement\")\n",
    "finally:\n",
    "   print(\"Always execute finally code blocks\")"
   ]
  },
  {
   "cell_type": "code",
   "execution_count": 31,
   "metadata": {},
   "outputs": [
    {
     "name": "stdout",
     "output_type": "stream",
     "text": [
      "Please enter an integer: 6\n",
      "Finally, I executed!\n",
      "6\n"
     ]
    }
   ],
   "source": [
    "def askint():\n",
    "        try:\n",
    "            val = int(input(\"Please enter an integer: \"))\n",
    "        except:\n",
    "            print(\"Looks like you did not enter an integer!\")\n",
    "        finally:\n",
    "            print(\"Finally, I executed!\")\n",
    "        print(val)   \n",
    "askint()"
   ]
  },
  {
   "cell_type": "code",
   "execution_count": 32,
   "metadata": {},
   "outputs": [
    {
     "name": "stdout",
     "output_type": "stream",
     "text": [
      "Please enter an integer: \n",
      "Looks like you did not enter an integer!\n",
      "Finally, I executed!\n"
     ]
    },
    {
     "ename": "UnboundLocalError",
     "evalue": "local variable 'val' referenced before assignment",
     "output_type": "error",
     "traceback": [
      "\u001b[1;31m---------------------------------------------------------------------------\u001b[0m",
      "\u001b[1;31mUnboundLocalError\u001b[0m                         Traceback (most recent call last)",
      "\u001b[1;32m<ipython-input-32-d126c66b2d61>\u001b[0m in \u001b[0;36m<module>\u001b[1;34m\u001b[0m\n\u001b[0;32m      7\u001b[0m             \u001b[0mprint\u001b[0m\u001b[1;33m(\u001b[0m\u001b[1;34m\"Finally, I executed!\"\u001b[0m\u001b[1;33m)\u001b[0m\u001b[1;33m\u001b[0m\u001b[1;33m\u001b[0m\u001b[0m\n\u001b[0;32m      8\u001b[0m         \u001b[0mprint\u001b[0m\u001b[1;33m(\u001b[0m\u001b[0mval\u001b[0m\u001b[1;33m)\u001b[0m\u001b[1;33m\u001b[0m\u001b[1;33m\u001b[0m\u001b[0m\n\u001b[1;32m----> 9\u001b[1;33m \u001b[0maskint\u001b[0m\u001b[1;33m(\u001b[0m\u001b[1;33m)\u001b[0m\u001b[1;33m\u001b[0m\u001b[1;33m\u001b[0m\u001b[0m\n\u001b[0m",
      "\u001b[1;32m<ipython-input-32-d126c66b2d61>\u001b[0m in \u001b[0;36maskint\u001b[1;34m()\u001b[0m\n\u001b[0;32m      6\u001b[0m         \u001b[1;32mfinally\u001b[0m\u001b[1;33m:\u001b[0m\u001b[1;33m\u001b[0m\u001b[1;33m\u001b[0m\u001b[0m\n\u001b[0;32m      7\u001b[0m             \u001b[0mprint\u001b[0m\u001b[1;33m(\u001b[0m\u001b[1;34m\"Finally, I executed!\"\u001b[0m\u001b[1;33m)\u001b[0m\u001b[1;33m\u001b[0m\u001b[1;33m\u001b[0m\u001b[0m\n\u001b[1;32m----> 8\u001b[1;33m         \u001b[0mprint\u001b[0m\u001b[1;33m(\u001b[0m\u001b[0mval\u001b[0m\u001b[1;33m)\u001b[0m\u001b[1;33m\u001b[0m\u001b[1;33m\u001b[0m\u001b[0m\n\u001b[0m\u001b[0;32m      9\u001b[0m \u001b[0maskint\u001b[0m\u001b[1;33m(\u001b[0m\u001b[1;33m)\u001b[0m\u001b[1;33m\u001b[0m\u001b[1;33m\u001b[0m\u001b[0m\n",
      "\u001b[1;31mUnboundLocalError\u001b[0m: local variable 'val' referenced before assignment"
     ]
    }
   ],
   "source": [
    "def askint():\n",
    "        try:\n",
    "            val = int(input(\"Please enter an integer: \"))\n",
    "        except:\n",
    "            print(\"Looks like you did not enter an integer!\")\n",
    "        finally:\n",
    "            print(\"Finally, I executed!\")\n",
    "        print(val)   \n",
    "askint()\n"
   ]
  },
  {
   "cell_type": "code",
   "execution_count": 33,
   "metadata": {},
   "outputs": [
    {
     "name": "stdout",
     "output_type": "stream",
     "text": [
      "Please enter an integer: \n",
      "Looks like you did not enter an integer!\n",
      "Try again-Please enter an integer: 6\n",
      "Finally, I executed!\n",
      "6\n"
     ]
    }
   ],
   "source": [
    "def askint():\n",
    "        try:\n",
    "            val = int(input(\"Please enter an integer: \"))\n",
    "        except:\n",
    "            print(\"Looks like you did not enter an integer!\")\n",
    "            val = int(input(\"Try again-Please enter an integer: \"))\n",
    "        finally:\n",
    "            print(\"Finally, I executed!\")\n",
    "        print(val) \n",
    "askint()"
   ]
  },
  {
   "cell_type": "code",
   "execution_count": 34,
   "metadata": {},
   "outputs": [
    {
     "name": "stdout",
     "output_type": "stream",
     "text": [
      "Please enter an integer: 6\n",
      "Yep thats an integer!\n",
      "Finally, I executed!\n"
     ]
    }
   ],
   "source": [
    "def askint():\n",
    "    while True:\n",
    "        try:\n",
    "            val = int(input(\"Please enter an integer: \"))\n",
    "        except:\n",
    "            print(\"Looks like you did not enter an integer!\")\n",
    "            continue\n",
    "        else:\n",
    "            print('Yep thats an integer!')\n",
    "            break\n",
    "        finally:\n",
    "            print(\"Finally, I executed!\")\n",
    "        print(val) \n",
    "askint()"
   ]
  },
  {
   "cell_type": "code",
   "execution_count": 35,
   "metadata": {},
   "outputs": [
    {
     "name": "stdout",
     "output_type": "stream",
     "text": [
      "Please enter an integer: \n",
      "Looks like you did not enter an integer!\n",
      "Finally, I executed!\n",
      "Please enter an integer: \n",
      "Looks like you did not enter an integer!\n",
      "Finally, I executed!\n",
      "Please enter an integer: \n",
      "Looks like you did not enter an integer!\n",
      "Finally, I executed!\n",
      "Please enter an integer: 8\n",
      "Yep thats an integer!\n",
      "Finally, I executed!\n"
     ]
    }
   ],
   "source": [
    "def askint():\n",
    "    while True:\n",
    "        try:\n",
    "            val = int(input(\"Please enter an integer: \"))\n",
    "        except:\n",
    "            print(\"Looks like you did not enter an integer!\")\n",
    "            continue\n",
    "        else:\n",
    "            print('Yep thats an integer!')\n",
    "            break\n",
    "        finally:\n",
    "            print(\"Finally, I executed!\")\n",
    "        print(val) \n",
    "askint()"
   ]
  },
  {
   "cell_type": "code",
   "execution_count": 36,
   "metadata": {},
   "outputs": [
    {
     "data": {
      "text/plain": [
       "<sqlite3.Cursor at 0x84dda0>"
      ]
     },
     "execution_count": 36,
     "metadata": {},
     "output_type": "execute_result"
    }
   ],
   "source": [
    "#database connectivity\n",
    "import sqlite3\n",
    "\n",
    "db = sqlite3.connect(\"my_database1.db\")\n",
    "\n",
    "db.execute(\"drop table if exists grades1\")\n",
    "\n",
    "db.execute(\"create table grades1(id int, name text, score int)\")\n",
    "\n",
    "db.execute(\"insert into grades1(id, name, score) values(101, 'afreen',99 )\")\n",
    "db.execute(\"insert into grades1(id, name, score) values(102, 'fathima',90 )\")\n",
    "db.execute(\"insert into grades1(id, name, score) values(103, 'kanzah', 80 )\")\n",
    "db.execute(\"insert into grades1(id, name, score) values(104, 'mariyam', 85 )\")\n",
    "db.execute(\"insert into grades1(id, name, score) values(105, 'mannah',95 )\")"
   ]
  },
  {
   "cell_type": "code",
   "execution_count": 37,
   "metadata": {},
   "outputs": [],
   "source": [
    "db.commit()"
   ]
  },
  {
   "cell_type": "code",
   "execution_count": 38,
   "metadata": {},
   "outputs": [
    {
     "name": "stdout",
     "output_type": "stream",
     "text": [
      "(101, 'afreen', 99)\n",
      "(102, 'fathima', 90)\n",
      "(103, 'kanzah', 80)\n",
      "(104, 'mariyam', 85)\n",
      "(105, 'mannah', 95)\n",
      "------------------------------------------------------------\n"
     ]
    }
   ],
   "source": [
    "results = db.execute(\"select * from grades1 order by id\")\n",
    "for row in results:\n",
    "    print(row)\n",
    "print(\"-\" * 60 )"
   ]
  },
  {
   "cell_type": "code",
   "execution_count": 39,
   "metadata": {},
   "outputs": [
    {
     "name": "stdout",
     "output_type": "stream",
     "text": [
      "(103, 'kanzah', 80)\n",
      "------------------------------------------------------------\n"
     ]
    }
   ],
   "source": [
    "results = db.execute(\"select * from grades1 where name = 'kanzah' \")\n",
    "for row in results:\n",
    "    print(row)\n",
    "print(\"-\" * 60 )"
   ]
  },
  {
   "cell_type": "code",
   "execution_count": 40,
   "metadata": {},
   "outputs": [
    {
     "name": "stdout",
     "output_type": "stream",
     "text": [
      "(101, 'afreen', 99)\n",
      "(102, 'fathima', 90)\n",
      "(105, 'mannah', 95)\n",
      "------------------------------------------------------------\n"
     ]
    }
   ],
   "source": [
    "results = db.execute(\"select * from grades1 where score >= 90 \")\n",
    "for row in results:\n",
    "    print(row)\n",
    "print(\"-\" * 60 )"
   ]
  },
  {
   "cell_type": "code",
   "execution_count": 41,
   "metadata": {},
   "outputs": [
    {
     "name": "stdout",
     "output_type": "stream",
     "text": [
      "('afreen', 99)\n",
      "('mannah', 95)\n",
      "('fathima', 90)\n",
      "('mariyam', 85)\n",
      "('kanzah', 80)\n",
      "------------------------------------------------------------\n"
     ]
    }
   ],
   "source": [
    "results = db.execute(\"select name, score from grades1 order by score desc \")\n",
    "for row in results:\n",
    "    print(row)\n",
    "print(\"-\" * 60 )"
   ]
  },
  {
   "cell_type": "code",
   "execution_count": 42,
   "metadata": {},
   "outputs": [
    {
     "name": "stdout",
     "output_type": "stream",
     "text": [
      "('kanzah', 80)\n",
      "('mariyam', 85)\n",
      "('fathima', 90)\n",
      "('mannah', 95)\n",
      "('afreen', 99)\n",
      "------------------------------------------------------------\n"
     ]
    }
   ],
   "source": [
    "results = db.execute(\"select name, score from grades1 order by score\")\n",
    "for row in results:\n",
    "    print(row)\n",
    "print(\"-\" * 60 )"
   ]
  },
  {
   "cell_type": "code",
   "execution_count": 43,
   "metadata": {},
   "outputs": [
    {
     "name": "stdout",
     "output_type": "stream",
     "text": [
      "('kanzah', 80)\n",
      "('mariyam', 85)\n",
      "('fathima', 90)\n",
      "('mannah', 95)\n",
      "('afreen', 99)\n"
     ]
    }
   ],
   "source": [
    "results = db.execute(\"select name, score from grades1 order by score\")\n",
    "for row in results:\n",
    "    print(row)"
   ]
  },
  {
   "cell_type": "code",
   "execution_count": null,
   "metadata": {},
   "outputs": [],
   "source": []
  }
 ],
 "metadata": {
  "kernelspec": {
   "display_name": "Python 3",
   "language": "python",
   "name": "python3"
  },
  "language_info": {
   "codemirror_mode": {
    "name": "ipython",
    "version": 3
   },
   "file_extension": ".py",
   "mimetype": "text/x-python",
   "name": "python",
   "nbconvert_exporter": "python",
   "pygments_lexer": "ipython3",
   "version": "3.8.3"
  }
 },
 "nbformat": 4,
 "nbformat_minor": 4
}
